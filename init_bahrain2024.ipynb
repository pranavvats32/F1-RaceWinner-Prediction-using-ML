{
 "cells": [
  {
   "cell_type": "markdown",
   "id": "8a474990",
   "metadata": {},
   "source": [
    "# Bahrain 2024"
   ]
  },
  {
   "cell_type": "code",
   "execution_count": null,
   "id": "6f093c37",
   "metadata": {},
   "outputs": [],
   "source": [
    "# pip install fastf1 (without showing the process)\n",
    "import subprocess\n",
    "\n",
    "subprocess.run(['pip', 'install', 'fastf1'],\n",
    "               stdout=subprocess.DEVNULL,\n",
    "               stderr=subprocess.DEVNULL)\n"
   ]
  },
  {
   "cell_type": "markdown",
   "id": "6db910f2",
   "metadata": {},
   "source": [
    "# FastF1"
   ]
  },
  {
   "cell_type": "code",
   "execution_count": null,
   "id": "22d5873b",
   "metadata": {},
   "outputs": [],
   "source": [
    "# FastF1 Library: Provides telemetry, lap times, tire wear, and pit stop data.\n",
    "import fastf1\n",
    "import pandas as pd\n",
    "import logging\n",
    "import warnings\n",
    "\n",
    "# Disable logging from FastF1\n",
    "logging.getLogger(\"fastf1\").setLevel(logging.CRITICAL)\n",
    "\n",
    "# Suppress all Python warnings\n",
    "warnings.filterwarnings(\"ignore\")\n",
    "\n",
    "# Optional: Enable caching to speed up repeated runs\n",
    "# fastf1.Cache.enable_cache('cache')\n",
    "\n",
    "# Load Bahrain GP Race (2024)\n",
    "session = fastf1.get_session(2024, 'Bahrain', 'R')\n",
    "session.load()\n",
    "\n",
    "# Extract laps data as a DataFrame\n",
    "bahrain2024 = session.laps\n"
   ]
  },
  {
   "cell_type": "code",
   "execution_count": null,
   "id": "8a723e3d",
   "metadata": {},
   "outputs": [],
   "source": []
  },
  {
   "cell_type": "code",
   "execution_count": null,
   "id": "7be18270",
   "metadata": {},
   "outputs": [],
   "source": []
  },
  {
   "cell_type": "code",
   "execution_count": null,
   "id": "8744beb0",
   "metadata": {},
   "outputs": [],
   "source": []
  },
  {
   "cell_type": "markdown",
   "id": "73fb2389",
   "metadata": {},
   "source": [
    "# Ergast"
   ]
  },
  {
   "cell_type": "code",
   "execution_count": null,
   "id": "5682abed",
   "metadata": {},
   "outputs": [],
   "source": [
    "import requests\n",
    "import pandas as pd\n",
    "\n",
    "# Fetch Monaco 2023 race results\n",
    "url = \"http://ergast.com/api/f1/2023/6/results.json\"\n",
    "response = requests.get(url)\n",
    "data = response.json()\n",
    "\n",
    "# Confirm it's Monaco GP\n",
    "race_info = data['MRData']['RaceTable']['Races'][0]\n",
    "print(f\"Race: {race_info['raceName']} on {race_info['date']}\")\n",
    "\n",
    "# Extract and normalize results\n",
    "results = race_info['Results']\n",
    "monaco2023results= pd.json_normalize(results)\n",
    "\n",
    "# Preview\n",
    "print(monaco2023results.head())\n"
   ]
  },
  {
   "cell_type": "code",
   "execution_count": null,
   "id": "25aed9c7",
   "metadata": {},
   "outputs": [],
   "source": []
  },
  {
   "cell_type": "markdown",
   "id": "cf9426da",
   "metadata": {},
   "source": []
  },
  {
   "cell_type": "code",
   "execution_count": null,
   "id": "9938a355",
   "metadata": {},
   "outputs": [],
   "source": []
  }
 ],
 "metadata": {
  "kernelspec": {
   "display_name": "base",
   "language": "python",
   "name": "python3"
  },
  "language_info": {
   "name": "python",
   "version": "3.8.18"
  }
 },
 "nbformat": 4,
 "nbformat_minor": 5
}
