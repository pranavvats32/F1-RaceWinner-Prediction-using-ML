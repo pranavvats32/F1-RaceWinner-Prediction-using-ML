{
 "cells": [
  {
   "cell_type": "code",
   "execution_count": 1,
   "metadata": {},
   "outputs": [
    {
     "name": "stdout",
     "output_type": "stream",
     "text": [
      "Collecting fastf1Note: you may need to restart the kernel to use updated packages.\n",
      "\n",
      "  Downloading fastf1-3.3.9-py3-none-any.whl (130 kB)\n",
      "     ---------------------------------------- 0.0/130.4 kB ? eta -:--:--\n",
      "     -------------------------------------- 130.4/130.4 kB 7.5 MB/s eta 0:00:00\n",
      "Collecting requests-cache>=1.0.0\n",
      "  Downloading requests_cache-1.2.1-py3-none-any.whl (61 kB)\n",
      "     ---------------------------------------- 0.0/61.4 kB ? eta -:--:--\n",
      "     ---------------------------------------- 61.4/61.4 kB 3.2 MB/s eta 0:00:00\n",
      "Requirement already satisfied: pandas<3.0.0,>=1.4.1 in c:\\users\\prana\\anaconda3\\lib\\site-packages (from fastf1) (1.5.3)\n",
      "Requirement already satisfied: python-dateutil in c:\\users\\prana\\appdata\\roaming\\python\\python38\\site-packages (from fastf1) (2.8.2)\n",
      "Requirement already satisfied: scipy<2.0.0,>=1.7.3 in c:\\users\\prana\\anaconda3\\lib\\site-packages (from fastf1) (1.10.1)\n",
      "Collecting thefuzz\n",
      "  Downloading thefuzz-0.22.1-py3-none-any.whl (8.2 kB)\n",
      "Collecting timple>=0.1.6\n",
      "  Downloading timple-0.1.8-py3-none-any.whl (17 kB)\n",
      "Requirement already satisfied: requests>=2.28.1 in c:\\users\\prana\\anaconda3\\lib\\site-packages (from fastf1) (2.31.0)\n",
      "Collecting websockets>=10.3\n",
      "  Downloading websockets-13.1-cp38-cp38-win_amd64.whl (159 kB)\n",
      "     ---------------------------------------- 0.0/159.1 kB ? eta -:--:--\n",
      "     -------------------------------------- 159.1/159.1 kB 9.9 MB/s eta 0:00:00\n",
      "Requirement already satisfied: matplotlib<4.0.0,>=3.5.1 in c:\\users\\prana\\anaconda3\\lib\\site-packages (from fastf1) (3.7.1)\n",
      "Requirement already satisfied: numpy<2.0.0,>=1.21.5 in c:\\users\\prana\\anaconda3\\lib\\site-packages (from fastf1) (1.24.4)\n",
      "Requirement already satisfied: kiwisolver>=1.0.1 in c:\\users\\prana\\appdata\\roaming\\python\\python38\\site-packages (from matplotlib<4.0.0,>=3.5.1->fastf1) (1.4.4)\n",
      "Requirement already satisfied: packaging>=20.0 in c:\\users\\prana\\appdata\\roaming\\python\\python38\\site-packages (from matplotlib<4.0.0,>=3.5.1->fastf1) (23.0)\n",
      "Requirement already satisfied: cycler>=0.10 in c:\\users\\prana\\appdata\\roaming\\python\\python38\\site-packages (from matplotlib<4.0.0,>=3.5.1->fastf1) (0.11.0)\n",
      "Requirement already satisfied: fonttools>=4.22.0 in c:\\users\\prana\\appdata\\roaming\\python\\python38\\site-packages (from matplotlib<4.0.0,>=3.5.1->fastf1) (4.38.0)\n",
      "Requirement already satisfied: pillow>=6.2.0 in c:\\users\\prana\\appdata\\roaming\\python\\python38\\site-packages (from matplotlib<4.0.0,>=3.5.1->fastf1) (9.4.0)\n",
      "Requirement already satisfied: contourpy>=1.0.1 in c:\\users\\prana\\appdata\\roaming\\python\\python38\\site-packages (from matplotlib<4.0.0,>=3.5.1->fastf1) (1.0.7)\n",
      "Requirement already satisfied: pyparsing>=2.3.1 in c:\\users\\prana\\appdata\\roaming\\python\\python38\\site-packages (from matplotlib<4.0.0,>=3.5.1->fastf1) (3.0.9)\n",
      "Requirement already satisfied: importlib-resources>=3.2.0 in c:\\users\\prana\\anaconda3\\lib\\site-packages (from matplotlib<4.0.0,>=3.5.1->fastf1) (6.1.0)\n",
      "Requirement already satisfied: pytz>=2020.1 in c:\\users\\prana\\anaconda3\\lib\\site-packages (from pandas<3.0.0,>=1.4.1->fastf1) (2023.3.post1)\n",
      "Requirement already satisfied: six>=1.5 in c:\\users\\prana\\anaconda3\\lib\\site-packages (from python-dateutil->fastf1) (1.16.0)\n",
      "Requirement already satisfied: idna<4,>=2.5 in c:\\users\\prana\\anaconda3\\lib\\site-packages (from requests>=2.28.1->fastf1) (3.4)\n",
      "Requirement already satisfied: urllib3<3,>=1.21.1 in c:\\users\\prana\\anaconda3\\lib\\site-packages (from requests>=2.28.1->fastf1) (1.26.18)\n",
      "Requirement already satisfied: certifi>=2017.4.17 in c:\\users\\prana\\anaconda3\\lib\\site-packages (from requests>=2.28.1->fastf1) (2024.8.30)\n",
      "Requirement already satisfied: charset-normalizer<4,>=2 in c:\\users\\prana\\anaconda3\\lib\\site-packages (from requests>=2.28.1->fastf1) (2.0.4)\n",
      "Collecting url-normalize>=1.4\n",
      "  Downloading url_normalize-2.2.0-py3-none-any.whl (14 kB)\n",
      "Requirement already satisfied: attrs>=21.2 in c:\\users\\prana\\anaconda3\\lib\\site-packages (from requests-cache>=1.0.0->fastf1) (23.1.0)\n",
      "Requirement already satisfied: platformdirs>=2.5 in c:\\users\\prana\\anaconda3\\lib\\site-packages (from requests-cache>=1.0.0->fastf1) (3.10.0)\n",
      "Collecting cattrs>=22.2\n",
      "  Downloading cattrs-24.1.3-py3-none-any.whl (66 kB)\n",
      "     ---------------------------------------- 0.0/66.5 kB ? eta -:--:--\n",
      "     ---------------------------------------- 66.5/66.5 kB 3.7 MB/s eta 0:00:00\n",
      "Collecting rapidfuzz<4.0.0,>=3.0.0\n",
      "  Downloading rapidfuzz-3.9.7-cp38-cp38-win_amd64.whl (1.7 MB)\n",
      "     ---------------------------------------- 0.0/1.7 MB ? eta -:--:--\n",
      "     ---------------------------- ----------- 1.2/1.7 MB 25.5 MB/s eta 0:00:01\n",
      "     ---------------------------------------- 1.7/1.7 MB 15.1 MB/s eta 0:00:00\n",
      "Collecting exceptiongroup>=1.1.1\n",
      "  Downloading exceptiongroup-1.2.2-py3-none-any.whl (16 kB)\n",
      "Requirement already satisfied: typing-extensions!=4.6.3,>=4.1.0 in c:\\users\\prana\\anaconda3\\lib\\site-packages (from cattrs>=22.2->requests-cache>=1.0.0->fastf1) (4.8.0)\n",
      "Requirement already satisfied: zipp>=3.1.0 in c:\\users\\prana\\anaconda3\\lib\\site-packages (from importlib-resources>=3.2.0->matplotlib<4.0.0,>=3.5.1->fastf1) (3.20.2)\n",
      "Installing collected packages: websockets, url-normalize, rapidfuzz, exceptiongroup, thefuzz, cattrs, timple, requests-cache, fastf1\n",
      "  Attempting uninstall: exceptiongroup\n",
      "    Found existing installation: exceptiongroup 1.0.4\n",
      "    Uninstalling exceptiongroup-1.0.4:\n",
      "      Successfully uninstalled exceptiongroup-1.0.4\n",
      "Successfully installed cattrs-24.1.3 exceptiongroup-1.2.2 fastf1-3.3.9 rapidfuzz-3.9.7 requests-cache-1.2.1 thefuzz-0.22.1 timple-0.1.8 url-normalize-2.2.0 websockets-13.1\n"
     ]
    },
    {
     "name": "stderr",
     "output_type": "stream",
     "text": [
      "WARNING: Ignoring invalid distribution -atplotlib (c:\\users\\prana\\anaconda3\\lib\\site-packages)\n",
      "WARNING: Ignoring invalid distribution -atplotlib (c:\\users\\prana\\anaconda3\\lib\\site-packages)\n",
      "WARNING: Ignoring invalid distribution -atplotlib (c:\\users\\prana\\anaconda3\\lib\\site-packages)\n",
      "    WARNING: Ignoring invalid distribution -atplotlib (c:\\users\\prana\\anaconda3\\lib\\site-packages)\n",
      "WARNING: Ignoring invalid distribution -atplotlib (c:\\users\\prana\\anaconda3\\lib\\site-packages)\n",
      "WARNING: Ignoring invalid distribution -atplotlib (c:\\users\\prana\\anaconda3\\lib\\site-packages)\n",
      "WARNING: Ignoring invalid distribution -atplotlib (c:\\users\\prana\\anaconda3\\lib\\site-packages)\n",
      "WARNING: Ignoring invalid distribution -atplotlib (c:\\users\\prana\\anaconda3\\lib\\site-packages)\n",
      "WARNING: Ignoring invalid distribution -atplotlib (c:\\users\\prana\\anaconda3\\lib\\site-packages)\n",
      "WARNING: Ignoring invalid distribution -atplotlib (c:\\users\\prana\\anaconda3\\lib\\site-packages)\n",
      "WARNING: Ignoring invalid distribution -atplotlib (c:\\users\\prana\\anaconda3\\lib\\site-packages)\n",
      "WARNING: Ignoring invalid distribution -atplotlib (c:\\users\\prana\\anaconda3\\lib\\site-packages)\n",
      "WARNING: Ignoring invalid distribution -atplotlib (c:\\users\\prana\\anaconda3\\lib\\site-packages)\n",
      "WARNING: Ignoring invalid distribution -atplotlib (c:\\users\\prana\\anaconda3\\lib\\site-packages)\n",
      "WARNING: Ignoring invalid distribution -atplotlib (c:\\users\\prana\\anaconda3\\lib\\site-packages)\n",
      "WARNING: Ignoring invalid distribution -atplotlib (c:\\users\\prana\\anaconda3\\lib\\site-packages)\n"
     ]
    }
   ],
   "source": [
    "pip install fastf1"
   ]
  },
  {
   "cell_type": "markdown",
   "metadata": {},
   "source": [
    "## Fast F1"
   ]
  },
  {
   "cell_type": "code",
   "execution_count": 2,
   "metadata": {},
   "outputs": [
    {
     "name": "stderr",
     "output_type": "stream",
     "text": [
      "c:\\Users\\prana\\Anaconda3\\lib\\site-packages\\numpy\\_distributor_init.py:30: UserWarning: loaded more than 1 DLL from .libs:\n",
      "c:\\Users\\prana\\Anaconda3\\lib\\site-packages\\numpy\\.libs\\libopenblas.WCDJNK7YVMPZQ2ME2ZZHJJRJ3JIKNDB7.gfortran-win_amd64.dll\n",
      "c:\\Users\\prana\\Anaconda3\\lib\\site-packages\\numpy\\.libs\\libopenblas64__v0.3.21-gcc_10_3_0.dll\n",
      "  warnings.warn(\"loaded more than 1 DLL from .libs:\"\n"
     ]
    }
   ],
   "source": [
    "#FastF1 Library: Provides telemetry, lap times, tire wear, and pit stop data.\n",
    "import fastf1\n",
    "import pandas as pd\n",
    "import logging\n",
    "\n",
    "# Disable logging\n",
    "logging.getLogger(\"fastf1\").setLevel(logging.CRITICAL)\n",
    "\n",
    "#fastf1.Cache.enable_cache('cache')  # Enable caching\n",
    "session = fastf1.get_session(2023, 'Monaco', 'R')  # Load Monaco GP Race\n",
    "session.load()\n",
    "\n",
    "# Extract laps data as a DataFrame\n",
    "df = session.laps"
   ]
  },
  {
   "cell_type": "code",
   "execution_count": 3,
   "metadata": {},
   "outputs": [
    {
     "name": "stdout",
     "output_type": "stream",
     "text": [
      "                    Time Driver DriverNumber                LapTime  \\\n",
      "0 0 days 01:03:27.458000    VER            1 0 days 00:01:24.238000   \n",
      "1 0 days 01:04:46.825000    VER            1 0 days 00:01:19.367000   \n",
      "2 0 days 01:06:05.899000    VER            1 0 days 00:01:19.074000   \n",
      "3 0 days 01:07:24.028000    VER            1 0 days 00:01:18.129000   \n",
      "4 0 days 01:08:42.047000    VER            1 0 days 00:01:18.019000   \n",
      "\n",
      "   LapNumber  Stint PitOutTime PitInTime            Sector1Time  \\\n",
      "0        1.0    1.0        NaT       NaT                    NaT   \n",
      "1        2.0    1.0        NaT       NaT 0 days 00:00:20.954000   \n",
      "2        3.0    1.0        NaT       NaT 0 days 00:00:20.854000   \n",
      "3        4.0    1.0        NaT       NaT 0 days 00:00:20.835000   \n",
      "4        5.0    1.0        NaT       NaT 0 days 00:00:20.745000   \n",
      "\n",
      "             Sector2Time  ... FreshTyre             Team  \\\n",
      "0 0 days 00:00:37.420000  ...      True  Red Bull Racing   \n",
      "1 0 days 00:00:37.366000  ...      True  Red Bull Racing   \n",
      "2 0 days 00:00:37.288000  ...      True  Red Bull Racing   \n",
      "3 0 days 00:00:36.637000  ...      True  Red Bull Racing   \n",
      "4 0 days 00:00:36.734000  ...      True  Red Bull Racing   \n",
      "\n",
      "            LapStartTime            LapStartDate  TrackStatus  Position  \\\n",
      "0 0 days 01:02:02.950000 2023-05-28 13:03:03.927           12       1.0   \n",
      "1 0 days 01:03:27.458000 2023-05-28 13:04:28.435            1       1.0   \n",
      "2 0 days 01:04:46.825000 2023-05-28 13:05:47.802            1       1.0   \n",
      "3 0 days 01:06:05.899000 2023-05-28 13:07:06.876            1       1.0   \n",
      "4 0 days 01:07:24.028000 2023-05-28 13:08:25.005            1       1.0   \n",
      "\n",
      "   Deleted  DeletedReason FastF1Generated IsAccurate  \n",
      "0    False                          False      False  \n",
      "1    False                          False       True  \n",
      "2    False                          False       True  \n",
      "3    False                          False       True  \n",
      "4    False                          False       True  \n",
      "\n",
      "[5 rows x 31 columns]\n"
     ]
    }
   ],
   "source": [
    "print(df.head())"
   ]
  },
  {
   "cell_type": "markdown",
   "metadata": {},
   "source": [
    "From FastF1, useful columns include:\n",
    "\n",
    "Driver → Driver code (e.g., VER for Verstappen)\n",
    "\n",
    "Team → Team name\n",
    "\n",
    "LapNumber → Lap count\n",
    "\n",
    "LapTime → Time taken for each lap\n",
    "\n",
    "Sector1Time, Sector2Time, Sector3Time → Sector timings\n",
    "\n",
    "Stint → Number of tire stints\n",
    "\n",
    "FreshTyre → If the driver used fresh tires"
   ]
  },
  {
   "cell_type": "code",
   "execution_count": 4,
   "metadata": {},
   "outputs": [
    {
     "name": "stdout",
     "output_type": "stream",
     "text": [
      "  Driver             Team  LapNumber                LapTime  \\\n",
      "0    VER  Red Bull Racing        1.0 0 days 00:01:24.238000   \n",
      "1    VER  Red Bull Racing        2.0 0 days 00:01:19.367000   \n",
      "2    VER  Red Bull Racing        3.0 0 days 00:01:19.074000   \n",
      "3    VER  Red Bull Racing        4.0 0 days 00:01:18.129000   \n",
      "4    VER  Red Bull Racing        5.0 0 days 00:01:18.019000   \n",
      "\n",
      "             Sector1Time            Sector2Time            Sector3Time  Stint  \\\n",
      "0                    NaT 0 days 00:00:37.420000 0 days 00:00:21.053000    1.0   \n",
      "1 0 days 00:00:20.954000 0 days 00:00:37.366000 0 days 00:00:21.047000    1.0   \n",
      "2 0 days 00:00:20.854000 0 days 00:00:37.288000 0 days 00:00:20.932000    1.0   \n",
      "3 0 days 00:00:20.835000 0 days 00:00:36.637000 0 days 00:00:20.657000    1.0   \n",
      "4 0 days 00:00:20.745000 0 days 00:00:36.734000 0 days 00:00:20.540000    1.0   \n",
      "\n",
      "   FreshTyre  \n",
      "0       True  \n",
      "1       True  \n",
      "2       True  \n",
      "3       True  \n",
      "4       True  \n"
     ]
    }
   ],
   "source": [
    "\n",
    "df_selected = df[[\"Driver\", \n",
    "                   \"Team\", \n",
    "                   \"LapNumber\", \n",
    "                   \"LapTime\", \n",
    "                   \"Sector1Time\", \n",
    "                   \"Sector2Time\", \n",
    "                   \"Sector3Time\", \n",
    "                   \"Stint\", \n",
    "                   \"FreshTyre\"]]\n",
    "\n",
    "# Display first 5 rows\n",
    "print(df_selected.head())\n",
    "\n"
   ]
  },
  {
   "cell_type": "markdown",
   "metadata": {},
   "source": [
    "## Ergast "
   ]
  },
  {
   "cell_type": "code",
   "execution_count": 5,
   "metadata": {},
   "outputs": [],
   "source": [
    "#Ergast API: Provides historical race results and strategy trends.\n",
    "import requests\n",
    "import pandas as pd\n",
    "\n",
    "# Fetch race results from Ergast API (Latest F1 race of 2023)\n",
    "url = \"http://ergast.com/api/f1/2023/last/results.json\"\n",
    "response = requests.get(url)\n",
    "data = response.json()  # Convert to JSON format\n",
    "\n"
   ]
  },
  {
   "cell_type": "code",
   "execution_count": 6,
   "metadata": {},
   "outputs": [
    {
     "name": "stdout",
     "output_type": "stream",
     "text": [
      "  number position positionText points grid laps    status Driver.driverId  \\\n",
      "0      1        1            1     26    1   58  Finished  max_verstappen   \n",
      "1     16        2            2     18    2   58  Finished         leclerc   \n",
      "2     63        3            3     15    4   58  Finished         russell   \n",
      "3     11        4            4     12    9   58  Finished           perez   \n",
      "4      4        5            5     10    5   58  Finished          norris   \n",
      "\n",
      "  Driver.permanentNumber Driver.code  ...  \\\n",
      "0                     33         VER  ...   \n",
      "1                     16         LEC  ...   \n",
      "2                     63         RUS  ...   \n",
      "3                     11         PER  ...   \n",
      "4                      4         NOR  ...   \n",
      "\n",
      "                                     Constructor.url Constructor.name  \\\n",
      "0       http://en.wikipedia.org/wiki/Red_Bull_Racing         Red Bull   \n",
      "1      http://en.wikipedia.org/wiki/Scuderia_Ferrari          Ferrari   \n",
      "2  http://en.wikipedia.org/wiki/Mercedes-Benz_in_...         Mercedes   \n",
      "3       http://en.wikipedia.org/wiki/Red_Bull_Racing         Red Bull   \n",
      "4               http://en.wikipedia.org/wiki/McLaren          McLaren   \n",
      "\n",
      "  Constructor.nationality Time.millis    Time.time FastestLap.rank  \\\n",
      "0                Austrian     5222624  1:27:02.624               1   \n",
      "1                 Italian     5240617      +17.993               8   \n",
      "2                  German     5242952      +20.328               7   \n",
      "3                Austrian     5244077      +21.453               2   \n",
      "4                 British     5246908      +24.284               6   \n",
      "\n",
      "  FastestLap.lap FastestLap.Time.time FastestLap.AverageSpeed.units  \\\n",
      "0             45             1:26.993                           kph   \n",
      "1             44             1:28.199                           kph   \n",
      "2             45             1:28.187                           kph   \n",
      "3             44             1:27.493                           kph   \n",
      "4             45             1:28.164                           kph   \n",
      "\n",
      "  FastestLap.AverageSpeed.speed  \n",
      "0                       218.541  \n",
      "1                       215.553  \n",
      "2                       215.582  \n",
      "3                       217.292  \n",
      "4                       215.639  \n",
      "\n",
      "[5 rows x 26 columns]\n"
     ]
    }
   ],
   "source": [
    "# Extract the race results\n",
    "results = data['MRData']['RaceTable']['Races'][0]['Results']\n",
    "\n",
    "# Convert JSON into a structured DataFrame\n",
    "df = pd.json_normalize(results)\n",
    "\n",
    "# Display first 5 rows\n",
    "print(df.head())\n"
   ]
  },
  {
   "cell_type": "markdown",
   "metadata": {},
   "source": [
    "The DataFrame contains a lot of columns. Let’s keep only useful ones like:\n",
    "\n",
    "position\n",
    "\n",
    "Driver.givenName\n",
    "\n",
    "Driver.familyName\n",
    "\n",
    "Constructor.name (Team)\n",
    "\n",
    "Time.time (Race time)"
   ]
  },
  {
   "cell_type": "code",
   "execution_count": 7,
   "metadata": {},
   "outputs": [
    {
     "name": "stdout",
     "output_type": "stream",
     "text": [
      "  Position First Name   Last Name      Team    Race Time\n",
      "0        1        Max  Verstappen  Red Bull  1:27:02.624\n",
      "1        2    Charles     Leclerc   Ferrari      +17.993\n",
      "2        3     George     Russell  Mercedes      +20.328\n",
      "3        4     Sergio       Pérez  Red Bull      +21.453\n",
      "4        5      Lando      Norris   McLaren      +24.284\n"
     ]
    }
   ],
   "source": [
    "df_selected = df[[\"position\", \n",
    "                   \"Driver.givenName\", \n",
    "                   \"Driver.familyName\", \n",
    "                   \"Constructor.name\", \n",
    "                   \"Time.time\"]]\n",
    "\n",
    "# Rename columns for clarity\n",
    "df_selected.columns = [\"Position\", \"First Name\", \"Last Name\", \"Team\", \"Race Time\"]\n",
    "\n",
    "print(df_selected.head())\n"
   ]
  },
  {
   "cell_type": "markdown",
   "metadata": {},
   "source": [
    "Data Cleaning & Feature Engineering"
   ]
  },
  {
   "cell_type": "markdown",
   "metadata": {},
   "source": [
    "Handle Missing & Inconsistent Data\n",
    "Drop laps with incomplete telemetry\n",
    "\n",
    "Normalize different race conditions (wet/dry races)"
   ]
  },
  {
   "cell_type": "code",
   "execution_count": 16,
   "metadata": {},
   "outputs": [],
   "source": [
    "#for fill nan and check no null value\n",
    "#df_selected = df_selected.fillna(pd.NaT)\n",
    "#print(df.isnull().sum())\n"
   ]
  },
  {
   "cell_type": "markdown",
   "metadata": {},
   "source": [
    "Create New Features"
   ]
  },
  {
   "cell_type": "code",
   "execution_count": 17,
   "metadata": {},
   "outputs": [],
   "source": [
    "#only theory\n",
    "#df['tire_age'] = df['LapNumber'] - df['PitStopLap']\n",
    "#df['tire_degradation'] = df['LapTime'].diff()  # Increase in lap time due to wear\n"
   ]
  },
  {
   "cell_type": "markdown",
   "metadata": {},
   "source": [
    "🔹 Track & Weather Features:\n",
    "\n",
    "Track Type (street circuit vs. high-speed)\n",
    "\n",
    "Rain probability\n",
    "\n",
    "🔹 Performance Metrics:\n",
    "\n",
    "Fuel Load Effect (Lap 1 vs. Lap 30 difference)\n",
    "\n",
    "Overtaking Probability (Position changes per lap)"
   ]
  },
  {
   "cell_type": "markdown",
   "metadata": {},
   "source": []
  },
  {
   "cell_type": "markdown",
   "metadata": {},
   "source": [
    "Exploratory Data Analysis"
   ]
  },
  {
   "cell_type": "markdown",
   "metadata": {},
   "source": [
    "Visualize Pit Stop Trends\n",
    "📉 Plot lap times before & after pit stops"
   ]
  },
  {
   "cell_type": "code",
   "execution_count": null,
   "metadata": {},
   "outputs": [],
   "source": [
    "import matplotlib.pyplot as plt\n",
    "\n",
    "plt.plot(df['LapNumber'], df['LapTime'], label=\"Lap Time\")\n",
    "plt.axvline(x=20, color='r', linestyle='--', label=\"Pit Stop\")  # Example pit stop\n",
    "plt.xlabel(\"Lap Number\")\n",
    "plt.ylabel(\"Lap Time (s)\")\n",
    "plt.legend()\n",
    "plt.show()\n"
   ]
  },
  {
   "cell_type": "markdown",
   "metadata": {},
   "source": [
    " Compare Tire Performance"
   ]
  },
  {
   "cell_type": "code",
   "execution_count": null,
   "metadata": {},
   "outputs": [],
   "source": [
    "import seaborn as sns\n",
    "\n",
    "sns.boxplot(x=df['Compound'], y=df['LapTime'])\n",
    "plt.title(\"Tire Compound vs. Lap Time\")\n",
    "plt.show()\n"
   ]
  },
  {
   "cell_type": "markdown",
   "metadata": {},
   "source": [
    "Train ML Model"
   ]
  },
  {
   "cell_type": "markdown",
   "metadata": {},
   "source": [
    " Define Target Variable\n",
    "📌 Target: Optimal Pit Stop Lap\n",
    "📌 Features:\n",
    "✔ Tire Age\n",
    "✔ Lap Time Degradation\n",
    "✔ Weather Conditions\n",
    "✔ Position in Race\n",
    "✔ Fuel Load"
   ]
  },
  {
   "cell_type": "code",
   "execution_count": null,
   "metadata": {},
   "outputs": [],
   "source": [
    "from sklearn.model_selection import train_test_split\n",
    "from sklearn.ensemble import RandomForestRegressor\n",
    "from sklearn.metrics import mean_absolute_error\n",
    "\n",
    "# Select relevant features\n",
    "X = df[['LapNumber', 'tire_age', 'tire_degradation', 'WeatherCondition']]\n",
    "y = df['PitStopLap']\n",
    "\n",
    "# Split into training & testing\n",
    "X_train, X_test, y_train, y_test = train_test_split(X, y, test_size=0.2, random_state=42)\n",
    "\n",
    "# Train a Random Forest model\n",
    "model = RandomForestRegressor(n_estimators=100, random_state=42)\n",
    "model.fit(X_train, y_train)\n",
    "\n",
    "# Evaluate model\n",
    "y_pred = model.predict(X_test)\n",
    "mae = mean_absolute_error(y_test, y_pred)\n",
    "print(f\"Mean Absolute Error: {mae:.2f} laps\")\n"
   ]
  },
  {
   "cell_type": "markdown",
   "metadata": {},
   "source": [
    "Optimize & Deploy the Model\n",
    "✅ Hyperparameter Tuning: Use GridSearchCV to improve accuracy\n",
    "✅ Feature Selection: Remove less relevant features\n",
    "✅ Deploy API: Serve predictions via Flask/FastAPI\n",
    "✅ Web Dashboard: Use Streamlit for interactive strategy visualization\n",
    "\n"
   ]
  },
  {
   "cell_type": "markdown",
   "metadata": {},
   "source": [
    "Add real-time race data for live predictions\n",
    "\n",
    "Incorporate pit lane time loss factor\n",
    "\n",
    "Simulate multiple pit strategies for optimal decision-making"
   ]
  }
 ],
 "metadata": {
  "kernelspec": {
   "display_name": "base",
   "language": "python",
   "name": "python3"
  },
  "language_info": {
   "codemirror_mode": {
    "name": "ipython",
    "version": 3
   },
   "file_extension": ".py",
   "mimetype": "text/x-python",
   "name": "python",
   "nbconvert_exporter": "python",
   "pygments_lexer": "ipython3",
   "version": "3.8.18"
  }
 },
 "nbformat": 4,
 "nbformat_minor": 2
}
