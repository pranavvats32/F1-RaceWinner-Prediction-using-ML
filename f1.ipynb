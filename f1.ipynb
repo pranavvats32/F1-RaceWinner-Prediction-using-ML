{
 "cells": [
  {
   "cell_type": "code",
   "execution_count": 1,
   "metadata": {},
   "outputs": [
    {
     "name": "stdout",
     "output_type": "stream",
     "text": [
      "Collecting fastf1Note: you may need to restart the kernel to use updated packages.\n",
      "\n",
      "  Downloading fastf1-3.3.9-py3-none-any.whl (130 kB)\n",
      "     ---------------------------------------- 0.0/130.4 kB ? eta -:--:--\n",
      "     -------------------------------------- 130.4/130.4 kB 7.5 MB/s eta 0:00:00\n",
      "Collecting requests-cache>=1.0.0\n",
      "  Downloading requests_cache-1.2.1-py3-none-any.whl (61 kB)\n",
      "     ---------------------------------------- 0.0/61.4 kB ? eta -:--:--\n",
      "     ---------------------------------------- 61.4/61.4 kB 3.2 MB/s eta 0:00:00\n",
      "Requirement already satisfied: pandas<3.0.0,>=1.4.1 in c:\\users\\prana\\anaconda3\\lib\\site-packages (from fastf1) (1.5.3)\n",
      "Requirement already satisfied: python-dateutil in c:\\users\\prana\\appdata\\roaming\\python\\python38\\site-packages (from fastf1) (2.8.2)\n",
      "Requirement already satisfied: scipy<2.0.0,>=1.7.3 in c:\\users\\prana\\anaconda3\\lib\\site-packages (from fastf1) (1.10.1)\n",
      "Collecting thefuzz\n",
      "  Downloading thefuzz-0.22.1-py3-none-any.whl (8.2 kB)\n",
      "Collecting timple>=0.1.6\n",
      "  Downloading timple-0.1.8-py3-none-any.whl (17 kB)\n",
      "Requirement already satisfied: requests>=2.28.1 in c:\\users\\prana\\anaconda3\\lib\\site-packages (from fastf1) (2.31.0)\n",
      "Collecting websockets>=10.3\n",
      "  Downloading websockets-13.1-cp38-cp38-win_amd64.whl (159 kB)\n",
      "     ---------------------------------------- 0.0/159.1 kB ? eta -:--:--\n",
      "     -------------------------------------- 159.1/159.1 kB 9.9 MB/s eta 0:00:00\n",
      "Requirement already satisfied: matplotlib<4.0.0,>=3.5.1 in c:\\users\\prana\\anaconda3\\lib\\site-packages (from fastf1) (3.7.1)\n",
      "Requirement already satisfied: numpy<2.0.0,>=1.21.5 in c:\\users\\prana\\anaconda3\\lib\\site-packages (from fastf1) (1.24.4)\n",
      "Requirement already satisfied: kiwisolver>=1.0.1 in c:\\users\\prana\\appdata\\roaming\\python\\python38\\site-packages (from matplotlib<4.0.0,>=3.5.1->fastf1) (1.4.4)\n",
      "Requirement already satisfied: packaging>=20.0 in c:\\users\\prana\\appdata\\roaming\\python\\python38\\site-packages (from matplotlib<4.0.0,>=3.5.1->fastf1) (23.0)\n",
      "Requirement already satisfied: cycler>=0.10 in c:\\users\\prana\\appdata\\roaming\\python\\python38\\site-packages (from matplotlib<4.0.0,>=3.5.1->fastf1) (0.11.0)\n",
      "Requirement already satisfied: fonttools>=4.22.0 in c:\\users\\prana\\appdata\\roaming\\python\\python38\\site-packages (from matplotlib<4.0.0,>=3.5.1->fastf1) (4.38.0)\n",
      "Requirement already satisfied: pillow>=6.2.0 in c:\\users\\prana\\appdata\\roaming\\python\\python38\\site-packages (from matplotlib<4.0.0,>=3.5.1->fastf1) (9.4.0)\n",
      "Requirement already satisfied: contourpy>=1.0.1 in c:\\users\\prana\\appdata\\roaming\\python\\python38\\site-packages (from matplotlib<4.0.0,>=3.5.1->fastf1) (1.0.7)\n",
      "Requirement already satisfied: pyparsing>=2.3.1 in c:\\users\\prana\\appdata\\roaming\\python\\python38\\site-packages (from matplotlib<4.0.0,>=3.5.1->fastf1) (3.0.9)\n",
      "Requirement already satisfied: importlib-resources>=3.2.0 in c:\\users\\prana\\anaconda3\\lib\\site-packages (from matplotlib<4.0.0,>=3.5.1->fastf1) (6.1.0)\n",
      "Requirement already satisfied: pytz>=2020.1 in c:\\users\\prana\\anaconda3\\lib\\site-packages (from pandas<3.0.0,>=1.4.1->fastf1) (2023.3.post1)\n",
      "Requirement already satisfied: six>=1.5 in c:\\users\\prana\\anaconda3\\lib\\site-packages (from python-dateutil->fastf1) (1.16.0)\n",
      "Requirement already satisfied: idna<4,>=2.5 in c:\\users\\prana\\anaconda3\\lib\\site-packages (from requests>=2.28.1->fastf1) (3.4)\n",
      "Requirement already satisfied: urllib3<3,>=1.21.1 in c:\\users\\prana\\anaconda3\\lib\\site-packages (from requests>=2.28.1->fastf1) (1.26.18)\n",
      "Requirement already satisfied: certifi>=2017.4.17 in c:\\users\\prana\\anaconda3\\lib\\site-packages (from requests>=2.28.1->fastf1) (2024.8.30)\n",
      "Requirement already satisfied: charset-normalizer<4,>=2 in c:\\users\\prana\\anaconda3\\lib\\site-packages (from requests>=2.28.1->fastf1) (2.0.4)\n",
      "Collecting url-normalize>=1.4\n",
      "  Downloading url_normalize-2.2.0-py3-none-any.whl (14 kB)\n",
      "Requirement already satisfied: attrs>=21.2 in c:\\users\\prana\\anaconda3\\lib\\site-packages (from requests-cache>=1.0.0->fastf1) (23.1.0)\n",
      "Requirement already satisfied: platformdirs>=2.5 in c:\\users\\prana\\anaconda3\\lib\\site-packages (from requests-cache>=1.0.0->fastf1) (3.10.0)\n",
      "Collecting cattrs>=22.2\n",
      "  Downloading cattrs-24.1.3-py3-none-any.whl (66 kB)\n",
      "     ---------------------------------------- 0.0/66.5 kB ? eta -:--:--\n",
      "     ---------------------------------------- 66.5/66.5 kB 3.7 MB/s eta 0:00:00\n",
      "Collecting rapidfuzz<4.0.0,>=3.0.0\n",
      "  Downloading rapidfuzz-3.9.7-cp38-cp38-win_amd64.whl (1.7 MB)\n",
      "     ---------------------------------------- 0.0/1.7 MB ? eta -:--:--\n",
      "     ---------------------------- ----------- 1.2/1.7 MB 25.5 MB/s eta 0:00:01\n",
      "     ---------------------------------------- 1.7/1.7 MB 15.1 MB/s eta 0:00:00\n",
      "Collecting exceptiongroup>=1.1.1\n",
      "  Downloading exceptiongroup-1.2.2-py3-none-any.whl (16 kB)\n",
      "Requirement already satisfied: typing-extensions!=4.6.3,>=4.1.0 in c:\\users\\prana\\anaconda3\\lib\\site-packages (from cattrs>=22.2->requests-cache>=1.0.0->fastf1) (4.8.0)\n",
      "Requirement already satisfied: zipp>=3.1.0 in c:\\users\\prana\\anaconda3\\lib\\site-packages (from importlib-resources>=3.2.0->matplotlib<4.0.0,>=3.5.1->fastf1) (3.20.2)\n",
      "Installing collected packages: websockets, url-normalize, rapidfuzz, exceptiongroup, thefuzz, cattrs, timple, requests-cache, fastf1\n",
      "  Attempting uninstall: exceptiongroup\n",
      "    Found existing installation: exceptiongroup 1.0.4\n",
      "    Uninstalling exceptiongroup-1.0.4:\n",
      "      Successfully uninstalled exceptiongroup-1.0.4\n",
      "Successfully installed cattrs-24.1.3 exceptiongroup-1.2.2 fastf1-3.3.9 rapidfuzz-3.9.7 requests-cache-1.2.1 thefuzz-0.22.1 timple-0.1.8 url-normalize-2.2.0 websockets-13.1\n"
     ]
    },
    {
     "name": "stderr",
     "output_type": "stream",
     "text": [
      "WARNING: Ignoring invalid distribution -atplotlib (c:\\users\\prana\\anaconda3\\lib\\site-packages)\n",
      "WARNING: Ignoring invalid distribution -atplotlib (c:\\users\\prana\\anaconda3\\lib\\site-packages)\n",
      "WARNING: Ignoring invalid distribution -atplotlib (c:\\users\\prana\\anaconda3\\lib\\site-packages)\n",
      "    WARNING: Ignoring invalid distribution -atplotlib (c:\\users\\prana\\anaconda3\\lib\\site-packages)\n",
      "WARNING: Ignoring invalid distribution -atplotlib (c:\\users\\prana\\anaconda3\\lib\\site-packages)\n",
      "WARNING: Ignoring invalid distribution -atplotlib (c:\\users\\prana\\anaconda3\\lib\\site-packages)\n",
      "WARNING: Ignoring invalid distribution -atplotlib (c:\\users\\prana\\anaconda3\\lib\\site-packages)\n",
      "WARNING: Ignoring invalid distribution -atplotlib (c:\\users\\prana\\anaconda3\\lib\\site-packages)\n",
      "WARNING: Ignoring invalid distribution -atplotlib (c:\\users\\prana\\anaconda3\\lib\\site-packages)\n",
      "WARNING: Ignoring invalid distribution -atplotlib (c:\\users\\prana\\anaconda3\\lib\\site-packages)\n",
      "WARNING: Ignoring invalid distribution -atplotlib (c:\\users\\prana\\anaconda3\\lib\\site-packages)\n",
      "WARNING: Ignoring invalid distribution -atplotlib (c:\\users\\prana\\anaconda3\\lib\\site-packages)\n",
      "WARNING: Ignoring invalid distribution -atplotlib (c:\\users\\prana\\anaconda3\\lib\\site-packages)\n",
      "WARNING: Ignoring invalid distribution -atplotlib (c:\\users\\prana\\anaconda3\\lib\\site-packages)\n",
      "WARNING: Ignoring invalid distribution -atplotlib (c:\\users\\prana\\anaconda3\\lib\\site-packages)\n",
      "WARNING: Ignoring invalid distribution -atplotlib (c:\\users\\prana\\anaconda3\\lib\\site-packages)\n"
     ]
    }
   ],
   "source": [
    "pip install fastf1"
   ]
  },
  {
   "cell_type": "markdown",
   "metadata": {},
   "source": [
    "## Fast F1"
   ]
  },
  {
   "cell_type": "code",
   "execution_count": 3,
   "metadata": {},
   "outputs": [
    {
     "name": "stderr",
     "output_type": "stream",
     "text": [
      "c:\\Users\\prana\\Anaconda3\\lib\\site-packages\\numpy\\_distributor_init.py:30: UserWarning: loaded more than 1 DLL from .libs:\n",
      "c:\\Users\\prana\\Anaconda3\\lib\\site-packages\\numpy\\.libs\\libopenblas.WCDJNK7YVMPZQ2ME2ZZHJJRJ3JIKNDB7.gfortran-win_amd64.dll\n",
      "c:\\Users\\prana\\Anaconda3\\lib\\site-packages\\numpy\\.libs\\libopenblas64__v0.3.21-gcc_10_3_0.dll\n",
      "  warnings.warn(\"loaded more than 1 DLL from .libs:\"\n"
     ]
    }
   ],
   "source": [
    "#FastF1 Library: Provides telemetry, lap times, tire wear, and pit stop data.\n",
    "import fastf1\n",
    "import pandas as pd\n",
    "import logging\n",
    "\n",
    "# Disable logging\n",
    "logging.getLogger(\"fastf1\").setLevel(logging.CRITICAL)\n",
    "\n",
    "#fastf1.Cache.enable_cache('cache')  # Enable caching\n",
    "session = fastf1.get_session(2023, 'Monaco', 'R')  # Load Monaco GP Race\n",
    "session.load()\n",
    "\n",
    "# Extract laps data as a DataFrame\n",
    "df1 = session.laps"
   ]
  },
  {
   "cell_type": "code",
   "execution_count": 4,
   "metadata": {},
   "outputs": [
    {
     "name": "stdout",
     "output_type": "stream",
     "text": [
      "                    Time Driver DriverNumber                LapTime  \\\n",
      "0 0 days 01:03:27.458000    VER            1 0 days 00:01:24.238000   \n",
      "1 0 days 01:04:46.825000    VER            1 0 days 00:01:19.367000   \n",
      "2 0 days 01:06:05.899000    VER            1 0 days 00:01:19.074000   \n",
      "3 0 days 01:07:24.028000    VER            1 0 days 00:01:18.129000   \n",
      "4 0 days 01:08:42.047000    VER            1 0 days 00:01:18.019000   \n",
      "\n",
      "   LapNumber  Stint PitOutTime PitInTime            Sector1Time  \\\n",
      "0        1.0    1.0        NaT       NaT                    NaT   \n",
      "1        2.0    1.0        NaT       NaT 0 days 00:00:20.954000   \n",
      "2        3.0    1.0        NaT       NaT 0 days 00:00:20.854000   \n",
      "3        4.0    1.0        NaT       NaT 0 days 00:00:20.835000   \n",
      "4        5.0    1.0        NaT       NaT 0 days 00:00:20.745000   \n",
      "\n",
      "             Sector2Time  ... FreshTyre             Team  \\\n",
      "0 0 days 00:00:37.420000  ...      True  Red Bull Racing   \n",
      "1 0 days 00:00:37.366000  ...      True  Red Bull Racing   \n",
      "2 0 days 00:00:37.288000  ...      True  Red Bull Racing   \n",
      "3 0 days 00:00:36.637000  ...      True  Red Bull Racing   \n",
      "4 0 days 00:00:36.734000  ...      True  Red Bull Racing   \n",
      "\n",
      "            LapStartTime            LapStartDate  TrackStatus  Position  \\\n",
      "0 0 days 01:02:02.950000 2023-05-28 13:03:03.927           12       1.0   \n",
      "1 0 days 01:03:27.458000 2023-05-28 13:04:28.435            1       1.0   \n",
      "2 0 days 01:04:46.825000 2023-05-28 13:05:47.802            1       1.0   \n",
      "3 0 days 01:06:05.899000 2023-05-28 13:07:06.876            1       1.0   \n",
      "4 0 days 01:07:24.028000 2023-05-28 13:08:25.005            1       1.0   \n",
      "\n",
      "   Deleted  DeletedReason FastF1Generated IsAccurate  \n",
      "0    False                          False      False  \n",
      "1    False                          False       True  \n",
      "2    False                          False       True  \n",
      "3    False                          False       True  \n",
      "4    False                          False       True  \n",
      "\n",
      "[5 rows x 31 columns]\n"
     ]
    }
   ],
   "source": [
    "print(df1.head())"
   ]
  },
  {
   "cell_type": "markdown",
   "metadata": {},
   "source": [
    "From FastF1, useful columns include:\n",
    "\n",
    "Driver → Driver code (e.g., VER for Verstappen)\n",
    "\n",
    "Team → Team name\n",
    "\n",
    "LapNumber → Lap count\n",
    "\n",
    "LapTime → Time taken for each lap\n",
    "\n",
    "Sector1Time, Sector2Time, Sector3Time → Sector timings\n",
    "\n",
    "Stint → Number of tire stints\n",
    "\n",
    "FreshTyre → If the driver used fresh tires"
   ]
  },
  {
   "cell_type": "code",
   "execution_count": 6,
   "metadata": {},
   "outputs": [
    {
     "name": "stdout",
     "output_type": "stream",
     "text": [
      "  Driver             Team  LapNumber                LapTime  \\\n",
      "0    VER  Red Bull Racing        1.0 0 days 00:01:24.238000   \n",
      "1    VER  Red Bull Racing        2.0 0 days 00:01:19.367000   \n",
      "2    VER  Red Bull Racing        3.0 0 days 00:01:19.074000   \n",
      "3    VER  Red Bull Racing        4.0 0 days 00:01:18.129000   \n",
      "4    VER  Red Bull Racing        5.0 0 days 00:01:18.019000   \n",
      "\n",
      "             Sector1Time            Sector2Time            Sector3Time  Stint  \\\n",
      "0                    NaT 0 days 00:00:37.420000 0 days 00:00:21.053000    1.0   \n",
      "1 0 days 00:00:20.954000 0 days 00:00:37.366000 0 days 00:00:21.047000    1.0   \n",
      "2 0 days 00:00:20.854000 0 days 00:00:37.288000 0 days 00:00:20.932000    1.0   \n",
      "3 0 days 00:00:20.835000 0 days 00:00:36.637000 0 days 00:00:20.657000    1.0   \n",
      "4 0 days 00:00:20.745000 0 days 00:00:36.734000 0 days 00:00:20.540000    1.0   \n",
      "\n",
      "   FreshTyre  \n",
      "0       True  \n",
      "1       True  \n",
      "2       True  \n",
      "3       True  \n",
      "4       True  \n"
     ]
    }
   ],
   "source": [
    "\n",
    "df1_selected = df1[[\"Driver\", \n",
    "                   \"Team\", \n",
    "                   \"LapNumber\", \n",
    "                   \"LapTime\", \n",
    "                   \"Sector1Time\", \n",
    "                   \"Sector2Time\", \n",
    "                   \"Sector3Time\", \n",
    "                   \"Stint\", \n",
    "                   \"FreshTyre\"]]\n",
    "\n",
    "# Display first 5 rows\n",
    "print(df1_selected.head())\n",
    "\n"
   ]
  },
  {
   "cell_type": "markdown",
   "metadata": {},
   "source": [
    "## Ergast "
   ]
  },
  {
   "cell_type": "code",
   "execution_count": 7,
   "metadata": {},
   "outputs": [],
   "source": [
    "#Ergast API: Provides historical race results and strategy trends.\n",
    "import requests\n",
    "import pandas as pd\n",
    "\n",
    "# Fetch race results from Ergast API (Latest F1 race of 2023)\n",
    "url = \"http://ergast.com/api/f1/2023/last/results.json\"\n",
    "response = requests.get(url)\n",
    "data = response.json()  # Convert to JSON format\n",
    "\n"
   ]
  },
  {
   "cell_type": "code",
   "execution_count": 8,
   "metadata": {},
   "outputs": [
    {
     "name": "stdout",
     "output_type": "stream",
     "text": [
      "  number position positionText points grid laps    status Driver.driverId  \\\n",
      "0      1        1            1     26    1   58  Finished  max_verstappen   \n",
      "1     16        2            2     18    2   58  Finished         leclerc   \n",
      "2     63        3            3     15    4   58  Finished         russell   \n",
      "3     11        4            4     12    9   58  Finished           perez   \n",
      "4      4        5            5     10    5   58  Finished          norris   \n",
      "\n",
      "  Driver.permanentNumber Driver.code  ...  \\\n",
      "0                     33         VER  ...   \n",
      "1                     16         LEC  ...   \n",
      "2                     63         RUS  ...   \n",
      "3                     11         PER  ...   \n",
      "4                      4         NOR  ...   \n",
      "\n",
      "                                     Constructor.url Constructor.name  \\\n",
      "0       http://en.wikipedia.org/wiki/Red_Bull_Racing         Red Bull   \n",
      "1      http://en.wikipedia.org/wiki/Scuderia_Ferrari          Ferrari   \n",
      "2  http://en.wikipedia.org/wiki/Mercedes-Benz_in_...         Mercedes   \n",
      "3       http://en.wikipedia.org/wiki/Red_Bull_Racing         Red Bull   \n",
      "4               http://en.wikipedia.org/wiki/McLaren          McLaren   \n",
      "\n",
      "  Constructor.nationality Time.millis    Time.time FastestLap.rank  \\\n",
      "0                Austrian     5222624  1:27:02.624               1   \n",
      "1                 Italian     5240617      +17.993               8   \n",
      "2                  German     5242952      +20.328               7   \n",
      "3                Austrian     5244077      +21.453               2   \n",
      "4                 British     5246908      +24.284               6   \n",
      "\n",
      "  FastestLap.lap FastestLap.Time.time FastestLap.AverageSpeed.units  \\\n",
      "0             45             1:26.993                           kph   \n",
      "1             44             1:28.199                           kph   \n",
      "2             45             1:28.187                           kph   \n",
      "3             44             1:27.493                           kph   \n",
      "4             45             1:28.164                           kph   \n",
      "\n",
      "  FastestLap.AverageSpeed.speed  \n",
      "0                       218.541  \n",
      "1                       215.553  \n",
      "2                       215.582  \n",
      "3                       217.292  \n",
      "4                       215.639  \n",
      "\n",
      "[5 rows x 26 columns]\n"
     ]
    }
   ],
   "source": [
    "# Extract the race results\n",
    "results = data['MRData']['RaceTable']['Races'][0]['Results']\n",
    "\n",
    "# Convert JSON into a structured DataFrame\n",
    "df = pd.json_normalize(results)\n",
    "\n",
    "# Display first 5 rows\n",
    "print(df.head())\n"
   ]
  },
  {
   "cell_type": "markdown",
   "metadata": {},
   "source": [
    "The DataFrame contains a lot of columns. Let’s keep only useful ones like:\n",
    "\n",
    "position\n",
    "\n",
    "Driver.givenName\n",
    "\n",
    "Driver.familyName\n",
    "\n",
    "Constructor.name (Team)\n",
    "\n",
    "Time.time (Race time)"
   ]
  },
  {
   "cell_type": "code",
   "execution_count": 9,
   "metadata": {},
   "outputs": [
    {
     "name": "stdout",
     "output_type": "stream",
     "text": [
      "  Position First Name   Last Name      Team    Race Time\n",
      "0        1        Max  Verstappen  Red Bull  1:27:02.624\n",
      "1        2    Charles     Leclerc   Ferrari      +17.993\n",
      "2        3     George     Russell  Mercedes      +20.328\n",
      "3        4     Sergio       Pérez  Red Bull      +21.453\n",
      "4        5      Lando      Norris   McLaren      +24.284\n"
     ]
    }
   ],
   "source": [
    "df_selected = df[[\"position\", \n",
    "                   \"Driver.givenName\", \n",
    "                   \"Driver.familyName\", \n",
    "                   \"Constructor.name\", \n",
    "                   \"Time.time\"]]\n",
    "\n",
    "# Rename columns for clarity\n",
    "df_selected.columns = [\"Position\", \"First Name\", \"Last Name\", \"Team\", \"Race Time\"]\n",
    "\n",
    "print(df_selected.head())\n"
   ]
  },
  {
   "cell_type": "markdown",
   "metadata": {},
   "source": [
    "Data Cleaning & Feature Engineering"
   ]
  },
  {
   "cell_type": "markdown",
   "metadata": {},
   "source": [
    "Handle Missing & Inconsistent Data\n",
    "Drop laps with incomplete telemetry\n",
    "\n",
    "Normalize different race conditions (wet/dry races)"
   ]
  },
  {
   "cell_type": "code",
   "execution_count": 10,
   "metadata": {},
   "outputs": [
    {
     "name": "stdout",
     "output_type": "stream",
     "text": [
      "Driver          0\n",
      "Team            0\n",
      "LapNumber       0\n",
      "LapTime         3\n",
      "Sector1Time    21\n",
      "Sector2Time     1\n",
      "Sector3Time     2\n",
      "Stint           0\n",
      "FreshTyre       0\n",
      "dtype: int64\n"
     ]
    }
   ],
   "source": [
    "print(df1_selected.isnull().sum())"
   ]
  },
  {
   "cell_type": "code",
   "execution_count": 11,
   "metadata": {},
   "outputs": [
    {
     "name": "stdout",
     "output_type": "stream",
     "text": [
      "Position      0\n",
      "First Name    0\n",
      "Last Name     0\n",
      "Team          0\n",
      "Race Time     3\n",
      "dtype: int64\n"
     ]
    }
   ],
   "source": [
    "print(df_selected.isnull().sum())"
   ]
  },
  {
   "cell_type": "code",
   "execution_count": null,
   "metadata": {},
   "outputs": [],
   "source": [
    "import numpy as np\n",
    "#changing the value of NaT to NaN so ml model doesnt consider the DNF case\n",
    "df_selected = df_selected.astype(object).where(pd.notnull(df_selected), np.nan)\n"
   ]
  },
  {
   "cell_type": "code",
   "execution_count": 22,
   "metadata": {},
   "outputs": [
    {
     "name": "stdout",
     "output_type": "stream",
     "text": [
      "Position      0\n",
      "First Name    0\n",
      "Last Name     0\n",
      "Team          0\n",
      "Race Time     3\n",
      "dtype: int64\n"
     ]
    }
   ],
   "source": [
    "print(df_selected.isnull().sum())\n"
   ]
  },
  {
   "cell_type": "code",
   "execution_count": 23,
   "metadata": {},
   "outputs": [
    {
     "data": {
      "text/html": [
       "<div>\n",
       "<style scoped>\n",
       "    .dataframe tbody tr th:only-of-type {\n",
       "        vertical-align: middle;\n",
       "    }\n",
       "\n",
       "    .dataframe tbody tr th {\n",
       "        vertical-align: top;\n",
       "    }\n",
       "\n",
       "    .dataframe thead th {\n",
       "        text-align: right;\n",
       "    }\n",
       "</style>\n",
       "<table border=\"1\" class=\"dataframe\">\n",
       "  <thead>\n",
       "    <tr style=\"text-align: right;\">\n",
       "      <th></th>\n",
       "      <th>Position</th>\n",
       "      <th>First Name</th>\n",
       "      <th>Last Name</th>\n",
       "      <th>Team</th>\n",
       "      <th>Race Time</th>\n",
       "    </tr>\n",
       "  </thead>\n",
       "  <tbody>\n",
       "    <tr>\n",
       "      <th>0</th>\n",
       "      <td>1</td>\n",
       "      <td>Max</td>\n",
       "      <td>Verstappen</td>\n",
       "      <td>Red Bull</td>\n",
       "      <td>1:27:02.624</td>\n",
       "    </tr>\n",
       "    <tr>\n",
       "      <th>1</th>\n",
       "      <td>2</td>\n",
       "      <td>Charles</td>\n",
       "      <td>Leclerc</td>\n",
       "      <td>Ferrari</td>\n",
       "      <td>+17.993</td>\n",
       "    </tr>\n",
       "    <tr>\n",
       "      <th>2</th>\n",
       "      <td>3</td>\n",
       "      <td>George</td>\n",
       "      <td>Russell</td>\n",
       "      <td>Mercedes</td>\n",
       "      <td>+20.328</td>\n",
       "    </tr>\n",
       "    <tr>\n",
       "      <th>3</th>\n",
       "      <td>4</td>\n",
       "      <td>Sergio</td>\n",
       "      <td>Pérez</td>\n",
       "      <td>Red Bull</td>\n",
       "      <td>+21.453</td>\n",
       "    </tr>\n",
       "    <tr>\n",
       "      <th>4</th>\n",
       "      <td>5</td>\n",
       "      <td>Lando</td>\n",
       "      <td>Norris</td>\n",
       "      <td>McLaren</td>\n",
       "      <td>+24.284</td>\n",
       "    </tr>\n",
       "    <tr>\n",
       "      <th>5</th>\n",
       "      <td>6</td>\n",
       "      <td>Oscar</td>\n",
       "      <td>Piastri</td>\n",
       "      <td>McLaren</td>\n",
       "      <td>+31.487</td>\n",
       "    </tr>\n",
       "    <tr>\n",
       "      <th>6</th>\n",
       "      <td>7</td>\n",
       "      <td>Fernando</td>\n",
       "      <td>Alonso</td>\n",
       "      <td>Aston Martin</td>\n",
       "      <td>+39.512</td>\n",
       "    </tr>\n",
       "    <tr>\n",
       "      <th>7</th>\n",
       "      <td>8</td>\n",
       "      <td>Yuki</td>\n",
       "      <td>Tsunoda</td>\n",
       "      <td>AlphaTauri</td>\n",
       "      <td>+43.088</td>\n",
       "    </tr>\n",
       "    <tr>\n",
       "      <th>8</th>\n",
       "      <td>9</td>\n",
       "      <td>Lewis</td>\n",
       "      <td>Hamilton</td>\n",
       "      <td>Mercedes</td>\n",
       "      <td>+44.424</td>\n",
       "    </tr>\n",
       "    <tr>\n",
       "      <th>9</th>\n",
       "      <td>10</td>\n",
       "      <td>Lance</td>\n",
       "      <td>Stroll</td>\n",
       "      <td>Aston Martin</td>\n",
       "      <td>+55.632</td>\n",
       "    </tr>\n",
       "    <tr>\n",
       "      <th>10</th>\n",
       "      <td>11</td>\n",
       "      <td>Daniel</td>\n",
       "      <td>Ricciardo</td>\n",
       "      <td>AlphaTauri</td>\n",
       "      <td>+56.229</td>\n",
       "    </tr>\n",
       "    <tr>\n",
       "      <th>11</th>\n",
       "      <td>12</td>\n",
       "      <td>Esteban</td>\n",
       "      <td>Ocon</td>\n",
       "      <td>Alpine F1 Team</td>\n",
       "      <td>+1:06.373</td>\n",
       "    </tr>\n",
       "    <tr>\n",
       "      <th>12</th>\n",
       "      <td>13</td>\n",
       "      <td>Pierre</td>\n",
       "      <td>Gasly</td>\n",
       "      <td>Alpine F1 Team</td>\n",
       "      <td>+1:10.360</td>\n",
       "    </tr>\n",
       "    <tr>\n",
       "      <th>13</th>\n",
       "      <td>14</td>\n",
       "      <td>Alexander</td>\n",
       "      <td>Albon</td>\n",
       "      <td>Williams</td>\n",
       "      <td>+1:13.184</td>\n",
       "    </tr>\n",
       "    <tr>\n",
       "      <th>14</th>\n",
       "      <td>15</td>\n",
       "      <td>Nico</td>\n",
       "      <td>Hülkenberg</td>\n",
       "      <td>Haas F1 Team</td>\n",
       "      <td>+1:23.696</td>\n",
       "    </tr>\n",
       "    <tr>\n",
       "      <th>15</th>\n",
       "      <td>16</td>\n",
       "      <td>Logan</td>\n",
       "      <td>Sargeant</td>\n",
       "      <td>Williams</td>\n",
       "      <td>+1:27.791</td>\n",
       "    </tr>\n",
       "    <tr>\n",
       "      <th>16</th>\n",
       "      <td>17</td>\n",
       "      <td>Guanyu</td>\n",
       "      <td>Zhou</td>\n",
       "      <td>Alfa Romeo</td>\n",
       "      <td>+1:29.422</td>\n",
       "    </tr>\n",
       "    <tr>\n",
       "      <th>17</th>\n",
       "      <td>18</td>\n",
       "      <td>Carlos</td>\n",
       "      <td>Sainz</td>\n",
       "      <td>Ferrari</td>\n",
       "      <td>NaN</td>\n",
       "    </tr>\n",
       "    <tr>\n",
       "      <th>18</th>\n",
       "      <td>19</td>\n",
       "      <td>Valtteri</td>\n",
       "      <td>Bottas</td>\n",
       "      <td>Alfa Romeo</td>\n",
       "      <td>NaN</td>\n",
       "    </tr>\n",
       "    <tr>\n",
       "      <th>19</th>\n",
       "      <td>20</td>\n",
       "      <td>Kevin</td>\n",
       "      <td>Magnussen</td>\n",
       "      <td>Haas F1 Team</td>\n",
       "      <td>NaN</td>\n",
       "    </tr>\n",
       "  </tbody>\n",
       "</table>\n",
       "</div>"
      ],
      "text/plain": [
       "   Position First Name   Last Name            Team    Race Time\n",
       "0         1        Max  Verstappen        Red Bull  1:27:02.624\n",
       "1         2    Charles     Leclerc         Ferrari      +17.993\n",
       "2         3     George     Russell        Mercedes      +20.328\n",
       "3         4     Sergio       Pérez        Red Bull      +21.453\n",
       "4         5      Lando      Norris         McLaren      +24.284\n",
       "5         6      Oscar     Piastri         McLaren      +31.487\n",
       "6         7   Fernando      Alonso    Aston Martin      +39.512\n",
       "7         8       Yuki     Tsunoda      AlphaTauri      +43.088\n",
       "8         9      Lewis    Hamilton        Mercedes      +44.424\n",
       "9        10      Lance      Stroll    Aston Martin      +55.632\n",
       "10       11     Daniel   Ricciardo      AlphaTauri      +56.229\n",
       "11       12    Esteban        Ocon  Alpine F1 Team    +1:06.373\n",
       "12       13     Pierre       Gasly  Alpine F1 Team    +1:10.360\n",
       "13       14  Alexander       Albon        Williams    +1:13.184\n",
       "14       15       Nico  Hülkenberg    Haas F1 Team    +1:23.696\n",
       "15       16      Logan    Sargeant        Williams    +1:27.791\n",
       "16       17     Guanyu        Zhou      Alfa Romeo    +1:29.422\n",
       "17       18     Carlos       Sainz         Ferrari          NaN\n",
       "18       19   Valtteri      Bottas      Alfa Romeo          NaN\n",
       "19       20      Kevin   Magnussen    Haas F1 Team          NaN"
      ]
     },
     "execution_count": 23,
     "metadata": {},
     "output_type": "execute_result"
    }
   ],
   "source": [
    "df_selected"
   ]
  },
  {
   "cell_type": "code",
   "execution_count": null,
   "metadata": {},
   "outputs": [],
   "source": [
    "df1_filled = df1_selected.fillna(pd.NaT)"
   ]
  },
  {
   "cell_type": "code",
   "execution_count": 20,
   "metadata": {},
   "outputs": [
    {
     "data": {
      "text/html": [
       "<div>\n",
       "<style scoped>\n",
       "    .dataframe tbody tr th:only-of-type {\n",
       "        vertical-align: middle;\n",
       "    }\n",
       "\n",
       "    .dataframe tbody tr th {\n",
       "        vertical-align: top;\n",
       "    }\n",
       "\n",
       "    .dataframe thead th {\n",
       "        text-align: right;\n",
       "    }\n",
       "</style>\n",
       "<table border=\"1\" class=\"dataframe\">\n",
       "  <thead>\n",
       "    <tr style=\"text-align: right;\">\n",
       "      <th></th>\n",
       "      <th>Driver</th>\n",
       "      <th>Team</th>\n",
       "      <th>LapNumber</th>\n",
       "      <th>LapTime</th>\n",
       "      <th>Sector1Time</th>\n",
       "      <th>Sector2Time</th>\n",
       "      <th>Sector3Time</th>\n",
       "      <th>Stint</th>\n",
       "      <th>FreshTyre</th>\n",
       "    </tr>\n",
       "  </thead>\n",
       "  <tbody>\n",
       "    <tr>\n",
       "      <th>0</th>\n",
       "      <td>VER</td>\n",
       "      <td>Red Bull Racing</td>\n",
       "      <td>1.0</td>\n",
       "      <td>0 days 00:01:24.238000</td>\n",
       "      <td>0 days 00:00:00</td>\n",
       "      <td>0 days 00:00:37.420000</td>\n",
       "      <td>0 days 00:00:21.053000</td>\n",
       "      <td>1.0</td>\n",
       "      <td>True</td>\n",
       "    </tr>\n",
       "    <tr>\n",
       "      <th>1</th>\n",
       "      <td>VER</td>\n",
       "      <td>Red Bull Racing</td>\n",
       "      <td>2.0</td>\n",
       "      <td>0 days 00:01:19.367000</td>\n",
       "      <td>0 days 00:00:20.954000</td>\n",
       "      <td>0 days 00:00:37.366000</td>\n",
       "      <td>0 days 00:00:21.047000</td>\n",
       "      <td>1.0</td>\n",
       "      <td>True</td>\n",
       "    </tr>\n",
       "    <tr>\n",
       "      <th>2</th>\n",
       "      <td>VER</td>\n",
       "      <td>Red Bull Racing</td>\n",
       "      <td>3.0</td>\n",
       "      <td>0 days 00:01:19.074000</td>\n",
       "      <td>0 days 00:00:20.854000</td>\n",
       "      <td>0 days 00:00:37.288000</td>\n",
       "      <td>0 days 00:00:20.932000</td>\n",
       "      <td>1.0</td>\n",
       "      <td>True</td>\n",
       "    </tr>\n",
       "    <tr>\n",
       "      <th>3</th>\n",
       "      <td>VER</td>\n",
       "      <td>Red Bull Racing</td>\n",
       "      <td>4.0</td>\n",
       "      <td>0 days 00:01:18.129000</td>\n",
       "      <td>0 days 00:00:20.835000</td>\n",
       "      <td>0 days 00:00:36.637000</td>\n",
       "      <td>0 days 00:00:20.657000</td>\n",
       "      <td>1.0</td>\n",
       "      <td>True</td>\n",
       "    </tr>\n",
       "    <tr>\n",
       "      <th>4</th>\n",
       "      <td>VER</td>\n",
       "      <td>Red Bull Racing</td>\n",
       "      <td>5.0</td>\n",
       "      <td>0 days 00:01:18.019000</td>\n",
       "      <td>0 days 00:00:20.745000</td>\n",
       "      <td>0 days 00:00:36.734000</td>\n",
       "      <td>0 days 00:00:20.540000</td>\n",
       "      <td>1.0</td>\n",
       "      <td>True</td>\n",
       "    </tr>\n",
       "    <tr>\n",
       "      <th>...</th>\n",
       "      <td>...</td>\n",
       "      <td>...</td>\n",
       "      <td>...</td>\n",
       "      <td>...</td>\n",
       "      <td>...</td>\n",
       "      <td>...</td>\n",
       "      <td>...</td>\n",
       "      <td>...</td>\n",
       "      <td>...</td>\n",
       "    </tr>\n",
       "    <tr>\n",
       "      <th>1510</th>\n",
       "      <td>PIA</td>\n",
       "      <td>McLaren</td>\n",
       "      <td>73.0</td>\n",
       "      <td>0 days 00:01:27.443000</td>\n",
       "      <td>0 days 00:00:23.295000</td>\n",
       "      <td>0 days 00:00:42.212000</td>\n",
       "      <td>0 days 00:00:21.936000</td>\n",
       "      <td>2.0</td>\n",
       "      <td>True</td>\n",
       "    </tr>\n",
       "    <tr>\n",
       "      <th>1511</th>\n",
       "      <td>PIA</td>\n",
       "      <td>McLaren</td>\n",
       "      <td>74.0</td>\n",
       "      <td>0 days 00:01:26.185000</td>\n",
       "      <td>0 days 00:00:22.381000</td>\n",
       "      <td>0 days 00:00:42.112000</td>\n",
       "      <td>0 days 00:00:21.692000</td>\n",
       "      <td>2.0</td>\n",
       "      <td>True</td>\n",
       "    </tr>\n",
       "    <tr>\n",
       "      <th>1512</th>\n",
       "      <td>PIA</td>\n",
       "      <td>McLaren</td>\n",
       "      <td>75.0</td>\n",
       "      <td>0 days 00:01:26.143000</td>\n",
       "      <td>0 days 00:00:22.061000</td>\n",
       "      <td>0 days 00:00:42.272000</td>\n",
       "      <td>0 days 00:00:21.810000</td>\n",
       "      <td>2.0</td>\n",
       "      <td>True</td>\n",
       "    </tr>\n",
       "    <tr>\n",
       "      <th>1513</th>\n",
       "      <td>PIA</td>\n",
       "      <td>McLaren</td>\n",
       "      <td>76.0</td>\n",
       "      <td>0 days 00:01:25.615000</td>\n",
       "      <td>0 days 00:00:21.991000</td>\n",
       "      <td>0 days 00:00:41.496000</td>\n",
       "      <td>0 days 00:00:22.128000</td>\n",
       "      <td>2.0</td>\n",
       "      <td>True</td>\n",
       "    </tr>\n",
       "    <tr>\n",
       "      <th>1514</th>\n",
       "      <td>PIA</td>\n",
       "      <td>McLaren</td>\n",
       "      <td>77.0</td>\n",
       "      <td>0 days 00:01:24.785000</td>\n",
       "      <td>0 days 00:00:21.970000</td>\n",
       "      <td>0 days 00:00:40.944000</td>\n",
       "      <td>0 days 00:00:21.871000</td>\n",
       "      <td>2.0</td>\n",
       "      <td>True</td>\n",
       "    </tr>\n",
       "  </tbody>\n",
       "</table>\n",
       "<p>1515 rows × 9 columns</p>\n",
       "</div>"
      ],
      "text/plain": [
       "     Driver             Team  LapNumber                LapTime  \\\n",
       "0       VER  Red Bull Racing        1.0 0 days 00:01:24.238000   \n",
       "1       VER  Red Bull Racing        2.0 0 days 00:01:19.367000   \n",
       "2       VER  Red Bull Racing        3.0 0 days 00:01:19.074000   \n",
       "3       VER  Red Bull Racing        4.0 0 days 00:01:18.129000   \n",
       "4       VER  Red Bull Racing        5.0 0 days 00:01:18.019000   \n",
       "...     ...              ...        ...                    ...   \n",
       "1510    PIA          McLaren       73.0 0 days 00:01:27.443000   \n",
       "1511    PIA          McLaren       74.0 0 days 00:01:26.185000   \n",
       "1512    PIA          McLaren       75.0 0 days 00:01:26.143000   \n",
       "1513    PIA          McLaren       76.0 0 days 00:01:25.615000   \n",
       "1514    PIA          McLaren       77.0 0 days 00:01:24.785000   \n",
       "\n",
       "                Sector1Time            Sector2Time            Sector3Time  \\\n",
       "0           0 days 00:00:00 0 days 00:00:37.420000 0 days 00:00:21.053000   \n",
       "1    0 days 00:00:20.954000 0 days 00:00:37.366000 0 days 00:00:21.047000   \n",
       "2    0 days 00:00:20.854000 0 days 00:00:37.288000 0 days 00:00:20.932000   \n",
       "3    0 days 00:00:20.835000 0 days 00:00:36.637000 0 days 00:00:20.657000   \n",
       "4    0 days 00:00:20.745000 0 days 00:00:36.734000 0 days 00:00:20.540000   \n",
       "...                     ...                    ...                    ...   \n",
       "1510 0 days 00:00:23.295000 0 days 00:00:42.212000 0 days 00:00:21.936000   \n",
       "1511 0 days 00:00:22.381000 0 days 00:00:42.112000 0 days 00:00:21.692000   \n",
       "1512 0 days 00:00:22.061000 0 days 00:00:42.272000 0 days 00:00:21.810000   \n",
       "1513 0 days 00:00:21.991000 0 days 00:00:41.496000 0 days 00:00:22.128000   \n",
       "1514 0 days 00:00:21.970000 0 days 00:00:40.944000 0 days 00:00:21.871000   \n",
       "\n",
       "      Stint  FreshTyre  \n",
       "0       1.0       True  \n",
       "1       1.0       True  \n",
       "2       1.0       True  \n",
       "3       1.0       True  \n",
       "4       1.0       True  \n",
       "...     ...        ...  \n",
       "1510    2.0       True  \n",
       "1511    2.0       True  \n",
       "1512    2.0       True  \n",
       "1513    2.0       True  \n",
       "1514    2.0       True  \n",
       "\n",
       "[1515 rows x 9 columns]"
      ]
     },
     "execution_count": 20,
     "metadata": {},
     "output_type": "execute_result"
    }
   ],
   "source": [
    "df1_filled"
   ]
  },
  {
   "cell_type": "code",
   "execution_count": 28,
   "metadata": {},
   "outputs": [
    {
     "name": "stdout",
     "output_type": "stream",
     "text": [
      "Driver         0\n",
      "Team           0\n",
      "LapNumber      0\n",
      "LapTime        0\n",
      "Sector1Time    0\n",
      "Sector2Time    0\n",
      "Sector3Time    0\n",
      "Stint          0\n",
      "FreshTyre      0\n",
      "dtype: int64\n"
     ]
    }
   ],
   "source": [
    "print(df1_filled.isnull().sum())"
   ]
  },
  {
   "cell_type": "markdown",
   "metadata": {},
   "source": [
    "Create New Features"
   ]
  },
  {
   "cell_type": "code",
   "execution_count": 17,
   "metadata": {},
   "outputs": [],
   "source": [
    "#only theory\n",
    "#df['tire_age'] = df['LapNumber'] - df['PitStopLap']\n",
    "#df['tire_degradation'] = df['LapTime'].diff()  # Increase in lap time due to wear\n"
   ]
  },
  {
   "cell_type": "markdown",
   "metadata": {},
   "source": [
    "🔹 Track & Weather Features:\n",
    "\n",
    "Track Type (street circuit vs. high-speed)\n",
    "\n",
    "Rain probability\n",
    "\n",
    "🔹 Performance Metrics:\n",
    "\n",
    "Fuel Load Effect (Lap 1 vs. Lap 30 difference)\n",
    "\n",
    "Overtaking Probability (Position changes per lap)"
   ]
  },
  {
   "cell_type": "markdown",
   "metadata": {},
   "source": []
  },
  {
   "cell_type": "markdown",
   "metadata": {},
   "source": [
    "Exploratory Data Analysis"
   ]
  },
  {
   "cell_type": "markdown",
   "metadata": {},
   "source": [
    "Visualize Pit Stop Trends\n",
    "📉 Plot lap times before & after pit stops"
   ]
  },
  {
   "cell_type": "code",
   "execution_count": null,
   "metadata": {},
   "outputs": [],
   "source": [
    "import matplotlib.pyplot as plt\n",
    "\n",
    "plt.plot(df['LapNumber'], df['LapTime'], label=\"Lap Time\")\n",
    "plt.axvline(x=20, color='r', linestyle='--', label=\"Pit Stop\")  # Example pit stop\n",
    "plt.xlabel(\"Lap Number\")\n",
    "plt.ylabel(\"Lap Time (s)\")\n",
    "plt.legend()\n",
    "plt.show()\n"
   ]
  },
  {
   "cell_type": "markdown",
   "metadata": {},
   "source": [
    " Compare Tire Performance"
   ]
  },
  {
   "cell_type": "code",
   "execution_count": null,
   "metadata": {},
   "outputs": [],
   "source": [
    "import seaborn as sns\n",
    "\n",
    "sns.boxplot(x=df['Compound'], y=df['LapTime'])\n",
    "plt.title(\"Tire Compound vs. Lap Time\")\n",
    "plt.show()\n"
   ]
  },
  {
   "cell_type": "markdown",
   "metadata": {},
   "source": [
    "Train ML Model"
   ]
  },
  {
   "cell_type": "markdown",
   "metadata": {},
   "source": [
    " Define Target Variable\n",
    "📌 Target: Optimal Pit Stop Lap\n",
    "📌 Features:\n",
    "✔ Tire Age\n",
    "✔ Lap Time Degradation\n",
    "✔ Weather Conditions\n",
    "✔ Position in Race\n",
    "✔ Fuel Load"
   ]
  },
  {
   "cell_type": "code",
   "execution_count": null,
   "metadata": {},
   "outputs": [],
   "source": [
    "from sklearn.model_selection import train_test_split\n",
    "from sklearn.ensemble import RandomForestRegressor\n",
    "from sklearn.metrics import mean_absolute_error\n",
    "\n",
    "# Select relevant features\n",
    "X = df[['LapNumber', 'tire_age', 'tire_degradation', 'WeatherCondition']]\n",
    "y = df['PitStopLap']\n",
    "\n",
    "# Split into training & testing\n",
    "X_train, X_test, y_train, y_test = train_test_split(X, y, test_size=0.2, random_state=42)\n",
    "\n",
    "# Train a Random Forest model\n",
    "model = RandomForestRegressor(n_estimators=100, random_state=42)\n",
    "model.fit(X_train, y_train)\n",
    "\n",
    "# Evaluate model\n",
    "y_pred = model.predict(X_test)\n",
    "mae = mean_absolute_error(y_test, y_pred)\n",
    "print(f\"Mean Absolute Error: {mae:.2f} laps\")\n"
   ]
  },
  {
   "cell_type": "markdown",
   "metadata": {},
   "source": [
    "Optimize & Deploy the Model\n",
    "✅ Hyperparameter Tuning: Use GridSearchCV to improve accuracy\n",
    "✅ Feature Selection: Remove less relevant features\n",
    "✅ Deploy API: Serve predictions via Flask/FastAPI\n",
    "✅ Web Dashboard: Use Streamlit for interactive strategy visualization\n",
    "\n"
   ]
  },
  {
   "cell_type": "markdown",
   "metadata": {},
   "source": [
    "Add real-time race data for live predictions\n",
    "\n",
    "Incorporate pit lane time loss factor\n",
    "\n",
    "Simulate multiple pit strategies for optimal decision-making"
   ]
  }
 ],
 "metadata": {
  "kernelspec": {
   "display_name": "base",
   "language": "python",
   "name": "python3"
  },
  "language_info": {
   "codemirror_mode": {
    "name": "ipython",
    "version": 3
   },
   "file_extension": ".py",
   "mimetype": "text/x-python",
   "name": "python",
   "nbconvert_exporter": "python",
   "pygments_lexer": "ipython3",
   "version": "3.8.18"
  }
 },
 "nbformat": 4,
 "nbformat_minor": 2
}
